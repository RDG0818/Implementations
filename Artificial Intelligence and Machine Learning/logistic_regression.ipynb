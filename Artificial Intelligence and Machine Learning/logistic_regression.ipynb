{
 "cells": [
  {
   "cell_type": "markdown",
   "id": "3b1e143e",
   "metadata": {},
   "source": [
    "# Logistic Regression\n",
    "\n",
    "Logistic Regression predicts the probability that an input belongs to a certain class, which can be either binary or multi-class.\n",
    "\n",
    "$h_\\theta(x) = \\sigma(\\theta^{\\top}x) = \\frac{1}{1+e^{-\\theta^{\\top}x}}$\n",
    "\n",
    "Loss Function (Cross Entropy):\n",
    "\n",
    "$J(\\theta) = - \\frac{1}{m}\\sum^{m}_{i=1}[y^{(i)}\\log(h_\\theta(x^{(i)})+(1-y^{(i)})\\log(1-h_\\theta(x^{(i)}))]$\n",
    "\n",
    "Gradient of Loss Function:\n",
    "\n",
    "$\\nabla J(\\theta) = \\frac{1}{m}X^{\\top}(\\sigma(X\\theta)-y)$\n",
    "\n",
    "Time Complexity:\n",
    "\n",
    "$O(mn)$\n",
    "\n",
    "Where:\n",
    "\n",
    "- $X \\in \\mathbb{R}^{m \\times n}$ is the feature matrix \n",
    "- $y \\in \\mathbb{R}^{m}$ is the label vector of either 0 or 1\n",
    "- $\\theta \\in \\mathbb{R}^{n+1}$ is the parameter vector"
   ]
  },
  {
   "cell_type": "code",
   "execution_count": 5,
   "id": "5412f04a",
   "metadata": {},
   "outputs": [
    {
     "name": "stdout",
     "output_type": "stream",
     "text": [
      "[ 4.24667680e-03  3.23792944e-02  4.63406262e-02  1.88951498e-01\n",
      "  8.58365368e-02  3.02695549e-04 -1.13428844e-04 -5.57409945e-04\n",
      " -2.38769787e-04  5.75858982e-04  2.39728373e-04  1.20977994e-04\n",
      "  3.08494952e-03 -8.41341713e-04 -8.14435566e-02  1.72837959e-05\n",
      " -3.38422598e-05 -6.56354393e-05 -7.08369014e-06  5.11205901e-05\n",
      "  3.94494776e-06  3.40811076e-02  5.86447701e-02  1.90938430e-01\n",
      " -1.17549862e-01  3.83804388e-04 -5.22144474e-04 -1.15148543e-03\n",
      " -2.62524691e-04  7.92464415e-04  2.26792156e-04]\n",
      "0.3906562522174093\n"
     ]
    }
   ],
   "source": [
    "from sklearn.datasets import load_breast_cancer\n",
    "import numpy as np \n",
    "import pandas as pd\n",
    "\n",
    "def sigmoid(z):\n",
    "    return 1/(1+np.exp(-z))\n",
    "\n",
    "def loss(theta, X, y):\n",
    "    m = X.shape[0]\n",
    "    h = sigmoid(X @ theta)\n",
    "    eps = 1e-5\n",
    "    return -(1/m) * (y @ np.log(h + eps) + (1-y) @ np.log(1 - h + eps))\n",
    "\n",
    "def gradient(theta, X, y):\n",
    "    m = X.shape[0]\n",
    "    h = sigmoid (X @ theta)\n",
    "    return (1/m) * X.T @ (h - y)\n",
    "\n",
    "lr = 1e-4\n",
    "data = load_breast_cancer()\n",
    "X = data.data\n",
    "X = np.hstack([np.ones((X.shape[0], 1)), X])\n",
    "y = data.target\n",
    "theta = np.zeros(X.shape[1])\n",
    "eps = 0.1\n",
    "iterations = 0\n",
    "\n",
    "\n",
    "while (loss(theta, X, y) > eps and iterations < 1000):\n",
    "    theta = theta - lr * gradient(theta, X, y)\n",
    "    iterations += 1\n",
    "\n",
    "print(theta)\n",
    "print(loss(theta, X, y))\n"
   ]
  },
  {
   "cell_type": "markdown",
   "id": "163ba960",
   "metadata": {},
   "source": [
    "### Solutions from SKLearn"
   ]
  },
  {
   "cell_type": "code",
   "execution_count": 6,
   "id": "4471e9d6",
   "metadata": {},
   "outputs": [
    {
     "name": "stdout",
     "output_type": "stream",
     "text": [
      "Accuracy: 0.9824561403508771\n",
      "\n",
      "Classification Report: \n",
      "               precision    recall  f1-score   support\n",
      "\n",
      "           0       0.98      0.98      0.98        42\n",
      "           1       0.99      0.99      0.99        72\n",
      "\n",
      "    accuracy                           0.98       114\n",
      "   macro avg       0.98      0.98      0.98       114\n",
      "weighted avg       0.98      0.98      0.98       114\n",
      "\n",
      "Confusion Matrix:\n",
      " [[41  1]\n",
      " [ 1 71]]\n"
     ]
    }
   ],
   "source": [
    "from sklearn.linear_model import LogisticRegression\n",
    "from sklearn.model_selection import train_test_split\n",
    "from sklearn.preprocessing import StandardScaler\n",
    "from sklearn.metrics import accuracy_score, classification_report, confusion_matrix\n",
    "\n",
    "X_train, X_test, y_train, y_test = train_test_split(\n",
    "    X, y,\n",
    "    test_size=0.2,\n",
    "    random_state=42,\n",
    "    stratify=y\n",
    ")\n",
    "\n",
    "scaler = StandardScaler()\n",
    "X_train_scaled = scaler.fit_transform(X_train)\n",
    "X_test_scaled = scaler.transform(X_test)\n",
    "\n",
    "model = LogisticRegression(\n",
    "    penalty='l2',\n",
    "    solver='liblinear',\n",
    "    max_iter=1000,\n",
    "    random_state=42\n",
    ")\n",
    "\n",
    "model.fit(X_train_scaled, y_train)\n",
    "\n",
    "y_pred = model.predict(X_test_scaled)\n",
    "\n",
    "print(\"Accuracy:\", accuracy_score(y_test, y_pred))\n",
    "print(\"\\nClassification Report: \\n\", classification_report(y_test, y_pred))\n",
    "print(\"Confusion Matrix:\\n\", confusion_matrix(y_test, y_pred))\n"
   ]
  }
 ],
 "metadata": {
  "kernelspec": {
   "display_name": "Python 3",
   "language": "python",
   "name": "python3"
  },
  "language_info": {
   "codemirror_mode": {
    "name": "ipython",
    "version": 3
   },
   "file_extension": ".py",
   "mimetype": "text/x-python",
   "name": "python",
   "nbconvert_exporter": "python",
   "pygments_lexer": "ipython3",
   "version": "3.12.1"
  }
 },
 "nbformat": 4,
 "nbformat_minor": 5
}
