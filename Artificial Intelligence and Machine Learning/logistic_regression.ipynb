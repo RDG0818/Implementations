{
 "cells": [
  {
   "cell_type": "markdown",
   "id": "3b1e143e",
   "metadata": {},
   "source": [
    "# Logistic Regression\n",
    "\n",
    "Logistic Regression predicts the probability that an input belongs to a certain class, which can be either binary or multi-class.\n",
    "\n",
    "$h_\\theta(x) = \\sigma(\\theta^{\\top}x) = \\frac{1}{1+e^{-\\theta^{\\top}x}}$\n",
    "\n",
    "Loss Function (Cross Entropy):\n",
    "\n",
    "$J(\\theta) = - \\frac{1}{m}\\sum^{m}_{i=1}[y^{(i)}\\log(h_\\theta(x^{(i)})+(1-y^{(i)})\\log(1-h_\\theta(x^{(i)}))]$\n",
    "\n",
    "Gradient of Loss Function:\n",
    "\n",
    "$\\nabla J(\\theta) = \\frac{1}{m}X^{\\top}(\\sigma(X\\theta)-y)$\n",
    "\n",
    "Time Complexity:\n",
    "\n",
    "$O(mn)$\n",
    "\n",
    "Where:\n",
    "\n",
    "- $X \\in \\mathbb{R}^{m \\times n}$ is the feature matrix \n",
    "- $y \\in \\mathbb{R}^{m}$ is the label vector of either 0 or 1\n",
    "- $\\theta \\in \\mathbb{R}^{n+1}$ is the parameter vector"
   ]
  },
  {
   "cell_type": "code",
   "execution_count": 9,
   "id": "5412f04a",
   "metadata": {},
   "outputs": [
    {
     "name": "stdout",
     "output_type": "stream",
     "text": [
      "Training finished after 1000 iterations. Final Loss: 0.8862275739426885\n",
      "Accuracy: 0.9385964912280702\n",
      "\n",
      "Classification Report: \n",
      "               precision    recall  f1-score   support\n",
      "\n",
      "           0       0.95      0.88      0.91        42\n",
      "           1       0.93      0.97      0.95        72\n",
      "\n",
      "    accuracy                           0.94       114\n",
      "   macro avg       0.94      0.93      0.93       114\n",
      "weighted avg       0.94      0.94      0.94       114\n",
      "\n",
      "Confusion Matrix:\n",
      " [[37  5]\n",
      " [ 2 70]]\n"
     ]
    }
   ],
   "source": [
    "from sklearn.datasets import load_breast_cancer\n",
    "from sklearn.model_selection import train_test_split\n",
    "from sklearn.metrics import accuracy_score, classification_report, confusion_matrix\n",
    "import numpy as np \n",
    "import pandas as pd\n",
    "\n",
    "\n",
    "class logistic_model():\n",
    "    def __init__(self, lr=1e-3, eps=1e-5):\n",
    "        self.lr = lr\n",
    "        self.eps = eps\n",
    "        self.theta = None # Initialized in train\n",
    "\n",
    "    def sigmoid(self, z):\n",
    "        z = np.clip(z, -500, 500)\n",
    "        return 1/(1+np.exp(-z))\n",
    "\n",
    "    def loss(self, theta, X, y):\n",
    "        m = X.shape[0]\n",
    "        h = self.sigmoid(X @ theta)\n",
    "        return -(1/m) * (y @ np.log(h + self.eps) + (1-y) @ np.log(1 - h + self.eps))\n",
    "\n",
    "    def gradient(self, theta, X, y):\n",
    "        m = X.shape[0]\n",
    "        h = self.sigmoid (X @ theta)\n",
    "        return (1/m) * X.T @ (h - y)\n",
    "\n",
    "    def train(self, X, y, iterations=1000):\n",
    "        self.theta = np.zeros(X.shape[1])\n",
    "        iteration = 0\n",
    "        while self.loss(self.theta, X, y) > self.eps and iteration < iterations:\n",
    "            self.theta -= self.lr * self.gradient(self.theta, X_train, y_train)\n",
    "            iteration += 1\n",
    "        print(f\"Training finished after {iteration} iterations. Final Loss: {self.loss(self.theta, X, y)}\")\n",
    "\n",
    "    def predict(self, X):\n",
    "        if self.theta is not None: return np.where(self.sigmoid(X@np.transpose(self.theta)) >= 0.5, 1, 0)\n",
    "        else: print(\"Run self.train first!\")\n",
    "    \n",
    "    def evaluate(self, X, y_test):\n",
    "        y_pred = self.predict(X)\n",
    "        print(\"Accuracy:\", accuracy_score(y_test, y_pred))\n",
    "        print(\"\\nClassification Report: \\n\", classification_report(y_test, y_pred))\n",
    "        print(\"Confusion Matrix:\\n\", confusion_matrix(y_test, y_pred))\n",
    "\n",
    "data = load_breast_cancer()\n",
    "X = data.data\n",
    "X = np.hstack([np.ones((X.shape[0], 1)), X])\n",
    "y = data.target\n",
    "\n",
    "X_train, X_test, y_train, y_test = train_test_split(\n",
    "    X, y,\n",
    "    test_size=0.2,\n",
    "    random_state=42,\n",
    "    stratify=y\n",
    ")\n",
    "\n",
    "lm = logistic_model()\n",
    "lm.train(X_train, y_train)\n",
    "lm.evaluate(X_test, y_test)\n",
    "\n",
    "\n"
   ]
  },
  {
   "cell_type": "markdown",
   "id": "163ba960",
   "metadata": {},
   "source": [
    "### Solutions from SKLearn"
   ]
  },
  {
   "cell_type": "code",
   "execution_count": null,
   "id": "4471e9d6",
   "metadata": {},
   "outputs": [
    {
     "name": "stdout",
     "output_type": "stream",
     "text": [
      "Accuracy: 0.9824561403508771\n",
      "\n",
      "Classification Report: \n",
      "               precision    recall  f1-score   support\n",
      "\n",
      "           0       0.98      0.98      0.98        42\n",
      "           1       0.99      0.99      0.99        72\n",
      "\n",
      "    accuracy                           0.98       114\n",
      "   macro avg       0.98      0.98      0.98       114\n",
      "weighted avg       0.98      0.98      0.98       114\n",
      "\n",
      "Confusion Matrix:\n",
      " [[41  1]\n",
      " [ 1 71]]\n"
     ]
    }
   ],
   "source": [
    "from sklearn.linear_model import LogisticRegression\n",
    "from sklearn.preprocessing import StandardScaler\n",
    "\n",
    "scaler = StandardScaler()\n",
    "X_train_scaled = scaler.fit_transform(X_train)\n",
    "X_test_scaled = scaler.transform(X_test)\n",
    "\n",
    "model = LogisticRegression(\n",
    "    penalty='l2',\n",
    "    solver='liblinear',\n",
    "    max_iter=1000,\n",
    "    random_state=42\n",
    ")\n",
    "\n",
    "model.fit(X_train_scaled, y_train)\n",
    "\n",
    "y_pred = model.predict(X_test_scaled)\n",
    "\n",
    "print(\"Accuracy:\", accuracy_score(y_test, y_pred))\n",
    "print(\"\\nClassification Report: \\n\", classification_report(y_test, y_pred))\n",
    "print(\"Confusion Matrix:\\n\", confusion_matrix(y_test, y_pred))\n"
   ]
  }
 ],
 "metadata": {
  "kernelspec": {
   "display_name": "Python 3",
   "language": "python",
   "name": "python3"
  },
  "language_info": {
   "codemirror_mode": {
    "name": "ipython",
    "version": 3
   },
   "file_extension": ".py",
   "mimetype": "text/x-python",
   "name": "python",
   "nbconvert_exporter": "python",
   "pygments_lexer": "ipython3",
   "version": "3.12.1"
  }
 },
 "nbformat": 4,
 "nbformat_minor": 5
}
